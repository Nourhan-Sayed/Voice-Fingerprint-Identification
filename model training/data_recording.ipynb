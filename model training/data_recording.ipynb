{
 "cells": [
  {
   "cell_type": "code",
   "execution_count": 1,
   "metadata": {},
   "outputs": [],
   "source": [
    "import os\n",
    "import wave\n",
    "import time\n",
    "import pyaudio\n",
    "import warnings\n",
    "import numpy as np\n",
    "from scipy.io.wavfile import read\n"
   ]
  },
  {
   "cell_type": "code",
   "execution_count": 2,
   "metadata": {},
   "outputs": [],
   "source": [
    "def record_audio():\n",
    "\tName =(input(\"Please Enter Your Name:\"))\n",
    "\tSAMPLES_NUMBER = 20\n",
    "\tfor count in range(SAMPLES_NUMBER):\n",
    "\t\tFORMAT = pyaudio.paInt16\n",
    "\t\tCHANNELS = 1\n",
    "\t\tRATE = 44100\n",
    "\t\tCHUNK = 512\n",
    "\t\tRECORD_SECONDS = 2\n",
    "\t\tdevice_index = 2\n",
    "\t\taudio = pyaudio.PyAudio()\n",
    "\t\tprint(\"----------------------record device list---------------------\")\n",
    "\t\tinfo = audio.get_host_api_info_by_index(0)\n",
    "\t\tnumdevices = info.get('deviceCount')\n",
    "\t\tfor i in range(0, numdevices):\n",
    "\t\t\tif (audio.get_device_info_by_host_api_device_index(0, i).get('maxInputChannels')) > 0:\n",
    "\t\t\t\tprint(\"Input Device id \", i, \" - \", audio.get_device_info_by_host_api_device_index(0, i).get('name'))\n",
    "\t\tprint(\"-------------------------------------------------------------\")\n",
    "\t\tindex = int(input())\t\n",
    "\t\t# index = 1\t\n",
    "\t\tprint(\"recording via index \"+str(index))\n",
    "\t\tstream = audio.open(format=FORMAT, channels=CHANNELS,\n",
    "\t\t\t\t\t\trate=RATE, input=True,input_device_index = index,\n",
    "\t\t\t\t\t\tframes_per_buffer=CHUNK)\n",
    "\t\tprint (\"recording started\")\n",
    "\t\tRecordframes = []\n",
    "\t\tfor i in range(0, int(RATE / CHUNK * RECORD_SECONDS)):\n",
    "\t\t\tdata = stream.read(CHUNK)\n",
    "\t\t\tRecordframes.append(data)\n",
    "\t\tprint (\"recording stopped\")\n",
    "\t\tstream.stop_stream()\n",
    "\t\tstream.close()\n",
    "\t\taudio.terminate()\n",
    "\t\tOUTPUT_FILENAME=Name+\"-sample\"+str(count)+\".wav\"\n",
    "\t\tWAVE_OUTPUT_FILENAME=os.path.join(\"recorded_audio\",OUTPUT_FILENAME)\n",
    "\t\ttrainedfilelist = open(\"recorded_audio\\\\recorded_audio_addition.txt\", 'a')\n",
    "\t\ttrainedfilelist.write(OUTPUT_FILENAME+\"\\n\")\n",
    "\t\twaveFile = wave.open(WAVE_OUTPUT_FILENAME, 'wb')\n",
    "\t\twaveFile.setnchannels(CHANNELS)\n",
    "\t\twaveFile.setsampwidth(audio.get_sample_size(FORMAT))\n",
    "\t\twaveFile.setframerate(RATE)\n",
    "\t\twaveFile.writeframes(b''.join(Recordframes))\n",
    "\t\twaveFile.close()"
   ]
  },
  {
   "cell_type": "code",
   "execution_count": null,
   "metadata": {},
   "outputs": [],
   "source": [
    "record_audio()"
   ]
  }
 ],
 "metadata": {
  "kernelspec": {
   "display_name": "Python 3",
   "language": "python",
   "name": "python3"
  },
  "language_info": {
   "codemirror_mode": {
    "name": "ipython",
    "version": 3
   },
   "file_extension": ".py",
   "mimetype": "text/x-python",
   "name": "python",
   "nbconvert_exporter": "python",
   "pygments_lexer": "ipython3",
   "version": "3.10.4"
  },
  "orig_nbformat": 4,
  "vscode": {
   "interpreter": {
    "hash": "8c3d4d9970fc5c09c50d9318a9c7fbf4d0159e4b28833276f5678ee22bded273"
   }
  }
 },
 "nbformat": 4,
 "nbformat_minor": 2
}
