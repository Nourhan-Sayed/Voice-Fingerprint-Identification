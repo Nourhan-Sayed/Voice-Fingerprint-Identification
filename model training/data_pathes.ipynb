{
 "cells": [
  {
   "cell_type": "code",
   "execution_count": 1,
   "metadata": {},
   "outputs": [],
   "source": [
    "import numpy as np\n",
    "import pandas as pd\n",
    "import os"
   ]
  },
  {
   "cell_type": "code",
   "execution_count": 14,
   "metadata": {},
   "outputs": [],
   "source": [
    "def write_data_pathes(data_folder_name):\n",
    "    # create data set file to write data pathes\n",
    "    data_set_file = f\"data_set\\{data_folder_name}_addition.txt\"\n",
    "    myfile = open(data_set_file, 'w')\n",
    "    folder_path = f\"data_set\\{data_folder_name}\"\n",
    "    # Write data pathes to the file\n",
    "    for folder_name in os.listdir(folder_path):\n",
    "        for filename in os.listdir(f\"{folder_path}\\{folder_name}\"):\n",
    "            myfile.write(folder_name+\"\\\\\"+filename)\n",
    "            myfile.write(\"\\n\")\n",
    "    # Close the file\n",
    "    myfile.close()"
   ]
  },
  {
   "cell_type": "code",
   "execution_count": 18,
   "metadata": {},
   "outputs": [],
   "source": [
    "# write data pathes for each data folder in data set\n",
    "data_folders = os.listdir(\"data_set\")\n",
    "for data_folder_name in data_folders:\n",
    "    write_data_pathes(data_folder_name)\n"
   ]
  }
 ],
 "metadata": {
  "kernelspec": {
   "display_name": "Python 3",
   "language": "python",
   "name": "python3"
  },
  "language_info": {
   "codemirror_mode": {
    "name": "ipython",
    "version": 3
   },
   "file_extension": ".py",
   "mimetype": "text/x-python",
   "name": "python",
   "nbconvert_exporter": "python",
   "pygments_lexer": "ipython3",
   "version": "3.10.4"
  },
  "orig_nbformat": 4,
  "vscode": {
   "interpreter": {
    "hash": "8c3d4d9970fc5c09c50d9318a9c7fbf4d0159e4b28833276f5678ee22bded273"
   }
  }
 },
 "nbformat": 4,
 "nbformat_minor": 2
}
